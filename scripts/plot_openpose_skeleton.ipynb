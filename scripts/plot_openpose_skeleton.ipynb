{
 "cells": [
  {
   "cell_type": "code",
   "execution_count": 24,
   "metadata": {},
   "outputs": [
    {
     "data": {
      "image/png": "[encoded data removed]",
      "text/plain": [
       "<Figure size 432x288 with 2 Axes>"
      ]
     },
     "metadata": {
      "needs_background": "light"
     },
     "output_type": "display_data"
    }
   ],
   "source": [
    "import numpy as np\n",
    "import matplotlib.pyplot as plt\n",
    "def content_to_mat(content):\n",
    "    mat = []\n",
    "    for i in range(len(content)):\n",
    "        if \"Body\" in content[i]:\n",
    "            for j in range(25):\n",
    "                record = content[i+1+j].lstrip().lstrip(\"[\").rstrip(\"\\n\").rstrip(\"]\")\n",
    "                joint = [float(x) for x in record.split()]\n",
    "                mat.append(joint)\n",
    "        elif \"Face\" in content[i]:\n",
    "            for j in range(70):\n",
    "                record = content[i+1+j].lstrip().lstrip(\"[\").rstrip(\"\\n\").rstrip(\"]\")\n",
    "                joint = [float(x) for x in record.split()]\n",
    "                mat.append(joint)\n",
    "\n",
    "        elif \"Left\" in content[i]:\n",
    "            for j in range(21):\n",
    "                record = content[i+1+j].lstrip().lstrip(\"[\").rstrip(\"\\n\").rstrip(\"]\")\n",
    "                joint = [float(x) for x in record.split()]\n",
    "                mat.append(joint)\n",
    "\n",
    "        elif \"Right\" in content[i]:\n",
    "            for j in range(21):\n",
    "                record = content[i+1+j].lstrip().lstrip(\"[\").rstrip(\"\\n\").rstrip(\"]\")\n",
    "                joint = [float(x) for x in record.split()]\n",
    "                mat.append(joint)\n",
    "\n",
    "    mat = np.array(mat)\n",
    "    # 第三维是置信度，不需要\n",
    "    mat = mat[:,0:2]\n",
    "    return mat\n",
    "\n",
    "def view_invariant_transform(mat):\n",
    "    '''\n",
    "      @params mat: T J D\n",
    "    '''\n",
    "#     index1 = 16\n",
    "#     index2 = 12\n",
    "    index1 = 9\n",
    "    index2 = 12\n",
    "\n",
    "    new_mat = np.zeros(mat.shape)\n",
    "    for i in range(mat.shape[0]):\n",
    "        delta_x,delta_y = mat[i,index2,:]-mat[i,index1,:]\n",
    "        center_x,center_y = 0.5*(mat[i,index2,:]+mat[i,index1,:])\n",
    "        length = (delta_x*delta_x+delta_y*delta_y)**0.5\n",
    "        cos_theta = delta_x/length\n",
    "        sin_theta = delta_y/length\n",
    "        T = np.array([\n",
    "            [cos_theta,-sin_theta],\n",
    "            [-sin_theta,-cos_theta]\n",
    "        ])\n",
    "        t = np.array([center_x,center_y])\n",
    "        # 对一帧中所有坐标进行具有视角不变性的变换\n",
    "        # x'=Tx\n",
    "        # origin_coord: J D\n",
    "        origin_coord = mat[i,:,:]-t\n",
    "        new_coord = np.matmul(T,origin_coord.transpose())\n",
    "        new_coord = new_coord.transpose()\n",
    "        new_mat[i,:,:] = new_coord\n",
    "    return new_mat\n",
    "\n",
    "filename = \"000002.txt\"\n",
    "f = open(filename,\"r\")\n",
    "content = f.readlines()\n",
    "mat_1 = content_to_mat(content)\n",
    "# plt.subplot(121)\n",
    "# plt.scatter(mat_i[:,0],-mat_i[:,1],s=5)\n",
    "\n",
    "filename = \"000010.txt\"\n",
    "f = open(filename,\"r\")\n",
    "content = f.readlines()\n",
    "mat_2 = content_to_mat(content)\n",
    "# plt.subplot(122)\n",
    "# plt.scatter(mat_i[:,0],-mat_i[:,1],s=5)\n",
    "\n",
    "mat = np.stack([mat_1,mat_2],0)\n",
    "pMat = view_invariant_transform(mat)\n",
    "for i,mat_i in enumerate(pMat):\n",
    "    plt.subplot(1,2,i+1)\n",
    "    plt.scatter(mat_i[:,0],mat_i[:,1],s=5)\n",
    "\n",
    "plt.show()"
   ]
  },
  {
   "cell_type": "code",
   "execution_count": null,
   "metadata": {},
   "outputs": [],
   "source": []
  }
 ],
 "metadata": {
  "file_extension": ".py",
  "kernelspec": {
   "display_name": "Python 3",
   "language": "python",
   "name": "python3"
  },
  "language_info": {
   "codemirror_mode": {
    "name": "ipython",
    "version": 3
   },
   "file_extension": ".py",
   "mimetype": "text/x-python",
   "name": "python",
   "nbconvert_exporter": "python",
   "pygments_lexer": "ipython3",
   "version": "3.7.6"
  },
  "mimetype": "text/x-python",
  "name": "python",
  "npconvert_exporter": "python",
  "pygments_lexer": "ipython3",
  "version": 3
 },
 "nbformat": 4,
 "nbformat_minor": 2
}
