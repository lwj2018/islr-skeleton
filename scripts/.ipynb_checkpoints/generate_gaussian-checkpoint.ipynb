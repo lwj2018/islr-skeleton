{
 "cells": [
  {
   "cell_type": "code",
   "execution_count": 54,
   "metadata": {},
   "outputs": [
    {
     "name": "stdout",
     "output_type": "stream",
     "text": [
      "(14, 14)\n"
     ]
    },
    {
     "data": {
      "text/plain": [
       "<matplotlib.image.AxesImage at 0x7efbadd9f090>"
      ]
     },
     "execution_count": 54,
     "metadata": {},
     "output_type": "execute_result"
    },
    {
     "data": {
      "image/png": "[encoded data removed]",
      "text/plain": [
       "<Figure size 432x288 with 1 Axes>"
      ]
     },
     "metadata": {
      "needs_background": "light"
     },
     "output_type": "display_data"
    }
   ],
   "source": [
    "import numpy as np\n",
    "import matplotlib.pyplot as plt\n",
    "\n",
    "class Distribution():\n",
    "    def __init__(self,mu,Sigma):\n",
    "        self.mu = mu\n",
    "        self.sigma = Sigma\n",
    "\n",
    "    def two_d_gaussian(self,x):\n",
    "        mu = self.mu\n",
    "        Sigma =self.sigma\n",
    "        n = mu.shape[0]\n",
    "        Sigma_det = np.linalg.det(Sigma)\n",
    "        Sigma_inv = np.linalg.inv(Sigma)\n",
    "        N = np.sqrt((2*np.pi)**n*Sigma_det)\n",
    "\n",
    "        fac = np.einsum('...k,kl,...l->...',x-mu,Sigma_inv,x-mu)\n",
    "\n",
    "        Z = np.exp(-fac/2)/N\n",
    "        Z = (Z-Z.min())/(Z.max()-Z.min())\n",
    "        return Z\n",
    "\n",
    "\n",
    "N = 14\n",
    "X = np.linspace(0,1,N)\n",
    "Y = np.linspace(0,1,N)\n",
    "X,Y = np.meshgrid(X,Y)\n",
    "x = 5/N\n",
    "y = 5/N\n",
    "mu = np.array([x,y])\n",
    "Sigma = np.array([[0.005,0],[0,0.005]])\n",
    "pos = np.empty(X.shape+(2,))\n",
    "pos[:,:,0]= X\n",
    "pos[:,:,1] = Y\n",
    "\n",
    "p2 = Distribution(mu,Sigma)\n",
    "Z = p2.two_d_gaussian(pos)\n",
    "\n",
    "print(Z.shape)\n",
    "plt.imshow(Z)"
   ]
  },
  {
   "cell_type": "code",
   "execution_count": 77,
   "metadata": {},
   "outputs": [
    {
     "name": "stdout",
     "output_type": "stream",
     "text": [
      "torch.Size([3, 3, 3])\n",
      "torch.Size([3])\n",
      "torch.Size([3, 3, 3])\n",
      "torch.Size([3])\n"
     ]
    },
    {
     "data": {
      "text/plain": [
       "tensor([[1., 1., 1.],\n",
       "        [2., 2., 2.]])"
      ]
     },
     "execution_count": 77,
     "metadata": {},
     "output_type": "execute_result"
    }
   ],
   "source": [
    "import torch\n",
    "import torch.nn.functional as F\n",
    "H = 3\n",
    "W = 3\n",
    "C = 3\n",
    "J = 2\n",
    "x = torch.ones(C,H,W)\n",
    "att = torch.Tensor(\n",
    "    [[[1,1,1],\n",
    "     [1,1,1],\n",
    "     [1,1,1]],\n",
    "     [[2,2,2],\n",
    "      [2,2,2],\n",
    "      [2,2,2]]])\n",
    "f_list = []\n",
    "for i in range(att.size(0)):\n",
    "    f = x*att[i,:,:]\n",
    "    f = F.adaptive_avg_pool2d(f,[1,1]).squeeze()\n",
    "    f_list.append(f)\n",
    "F = torch.stack(f_list,0)\n",
    "F"
   ]
  }
 ],
 "metadata": {
  "kernelspec": {
   "display_name": "Python 3",
   "language": "python",
   "name": "python3"
  },
  "language_info": {
   "codemirror_mode": {
    "name": "ipython",
    "version": 3
   },
   "file_extension": ".py",
   "mimetype": "text/x-python",
   "name": "python",
   "nbconvert_exporter": "python",
   "pygments_lexer": "ipython3",
   "version": "3.7.4"
  }
 },
 "nbformat": 4,
 "nbformat_minor": 2
}
