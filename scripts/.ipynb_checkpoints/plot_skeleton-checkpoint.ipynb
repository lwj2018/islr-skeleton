{
 "cells": [
  {
   "cell_type": "code",
   "execution_count": 24,
   "metadata": {},
   "outputs": [
    {
     "data": {
      "image/png": "[encoded data removed]",
      "text/plain": [
       "<Figure size 432x288 with 4 Axes>"
      ]
     },
     "metadata": {
      "needs_background": "light"
     },
     "output_type": "display_data"
    },
    {
     "name": "stdout",
     "output_type": "stream",
     "text": [
      "(98, 25, 2)\n"
     ]
    }
   ],
   "source": [
    "import matplotlib.pyplot as plt\n",
    "import numpy as np\n",
    "\n",
    "f = open(\"/media/liweijie/代码和数据/datasets/SLR_dataset/xf500_body_color_txt/000000/P01_01_00_0_body.txt\",\"r\")\n",
    "content = f.readlines()\n",
    "\n",
    "def view_invariant_transform(mat):\n",
    "    '''\n",
    "      @params mat: T J D\n",
    "    '''\n",
    "    index1 = 12\n",
    "    index2 = 16\n",
    "    new_mat = np.zeros(mat.shape)\n",
    "    for i in range(mat.shape[0]):\n",
    "        delta_x,delta_y = mat[i,index2,:]-mat[i,index1,:]\n",
    "        center_x,center_y = 0.5*(mat[i,index2,:]+mat[i,index1,:])\n",
    "        length = (delta_x*delta_x+delta_y*delta_y)**0.5\n",
    "        cos_theta = delta_x/length\n",
    "        sin_theta = delta_y/length\n",
    "        T = np.array([\n",
    "            [cos_theta,-sin_theta],\n",
    "            [-sin_theta,-cos_theta]\n",
    "        ])\n",
    "        t = np.array([center_x,center_y])\n",
    "        # 对一帧中所有坐标进行具有视角不变性的变换\n",
    "        # x'=Tx\n",
    "        # origin_coord: J D\n",
    "        origin_coord = mat[i,:,:]-t\n",
    "        new_coord = np.matmul(T,origin_coord.transpose())\n",
    "        new_coord = new_coord.transpose()\n",
    "        new_mat[i,:,:] = new_coord\n",
    "    return new_mat\n",
    "\n",
    "def content_to_mat(content):\n",
    "    mat = []\n",
    "    for record in content:\n",
    "        skeleton = record.rstrip(\"\\n\").rstrip(\"  \").split()\n",
    "        skeleton = [int(x) for x in skeleton]\n",
    "        skeleton = np.array(skeleton)\n",
    "        shape = skeleton.size\n",
    "        skeleton = np.reshape(skeleton,[shape//2,2])\n",
    "        mat.append(skeleton)\n",
    "    mat = np.array(mat)\n",
    "    return mat        \n",
    "\n",
    "mat = content_to_mat(content)\n",
    "\n",
    "def plot_skeleton(skeleton,i):\n",
    "    x = skeleton[:,0]\n",
    "    y = skeleton[:,1]\n",
    "    plt.subplot(2,2,i)\n",
    "#     ax = plt.gca()\n",
    "#     ax.yaxis.set_ticks_position('right')  #将y轴的位置设置在右边\n",
    "#     ax.invert_yaxis()  #y轴反向\n",
    "    plt.scatter(x,y,s=1)\n",
    "\n",
    "\n",
    "fig = plt.figure()\n",
    "mat = view_invariant_transform(mat)\n",
    "for count,i in enumerate(range(19,23,1)):\n",
    "    skeleton = mat[i]\n",
    "    skeleton = mat[i][[5,6,7,9,10,11,21,22,23,24]]\n",
    "# #   14,15,18,19为0\n",
    "#     skeleton = np.vstack([mat[i][0:14],mat[i][16:18],mat[i][20:25]])\n",
    "#     print(skeleton)\n",
    "    plot_skeleton(skeleton,count+1)\n",
    "plt.show()\n",
    "\n",
    "#fig.savefig('skeleton.pdf', bbox_inches='tight')\n",
    "\n",
    "print(mat.shape)"
   ]
  },
  {
   "cell_type": "code",
   "execution_count": 3,
   "metadata": {},
   "outputs": [],
   "source": [
    "plt.show()"
   ]
  },
  {
   "cell_type": "code",
   "execution_count": 4,
   "metadata": {},
   "outputs": [],
   "source": [
    "import os\n",
    "import os.path as osp\n",
    "import cv2\n",
    "path = \"/media/liweijie/代码和数据/datasets/SLR_dataset/S500_depth_video/000000/P01_01_00_0_depth\"\n",
    "imagename_list = os.listdir(path)\n",
    "imagename_list.sort()\n",
    "imagelist = []\n",
    "for imagename in imagename_list:\n",
    "    abs_imagename = osp.join(path,imagename)\n",
    "    image = cv2.imread(abs_imagename)\n",
    "    imagelist.append(image)\n"
   ]
  },
  {
   "cell_type": "code",
   "execution_count": 6,
   "metadata": {},
   "outputs": [
    {
     "data": {
      "text/plain": [
       "(228, 0, 67.95397718897405)"
      ]
     },
     "execution_count": 6,
     "metadata": {},
     "output_type": "execute_result"
    }
   ],
   "source": [
    "image.max(),image.min(),image.mean()"
   ]
  },
  {
   "cell_type": "code",
   "execution_count": 7,
   "metadata": {},
   "outputs": [
    {
     "data": {
      "text/plain": [
       "(424, 512, 3)"
      ]
     },
     "execution_count": 7,
     "metadata": {},
     "output_type": "execute_result"
    }
   ],
   "source": [
    "image.shape"
   ]
  }
 ],
 "metadata": {
  "kernelspec": {
   "display_name": "Python 3",
   "language": "python",
   "name": "python3"
  },
  "language_info": {
   "codemirror_mode": {
    "name": "ipython",
    "version": 3
   },
   "file_extension": ".py",
   "mimetype": "text/x-python",
   "name": "python",
   "nbconvert_exporter": "python",
   "pygments_lexer": "ipython3",
   "version": "3.7.4"
  }
 },
 "nbformat": 4,
 "nbformat_minor": 2
}
