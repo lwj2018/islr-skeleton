{
 "cells": [
  {
   "cell_type": "code",
   "execution_count": 8,
   "metadata": {},
   "outputs": [
    {
     "name": "stdout",
     "output_type": "stream",
     "text": [
      "(64, 64)\n"
     ]
    },
    {
     "data": {
      "image/png": "[encoded data removed]",
      "text/plain": [
       "<Figure size 432x288 with 1 Axes>"
      ]
     },
     "metadata": {
      "needs_background": "light"
     },
     "output_type": "display_data"
    }
   ],
   "source": [
    "import numpy as np\n",
    "import matplotlib.pyplot as plt\n",
    "\n",
    "class Distribution():\n",
    "    def __init__(self,mu,Sigma):\n",
    "        self.mu = mu\n",
    "        self.sigma = Sigma\n",
    "\n",
    "    def two_d_gaussian(self,x):\n",
    "        mu = self.mu\n",
    "        Sigma =self.sigma\n",
    "        n = mu.shape[0]\n",
    "        Sigma_det = np.linalg.det(Sigma)\n",
    "        Sigma_inv = np.linalg.inv(Sigma)\n",
    "        N = np.sqrt((2*np.pi)**n*Sigma_det)\n",
    "\n",
    "        fac = np.einsum('...k,kl,...l->...',x-mu,Sigma_inv,x-mu)\n",
    "\n",
    "        Z = np.exp(-fac/2)/N\n",
    "        Z = (Z-Z.min())/(Z.max()-Z.min())\n",
    "        return Z\n",
    "\n",
    "\n",
    "N = 64\n",
    "X = np.linspace(0,N,N)\n",
    "Y = np.linspace(0,N,N)\n",
    "X,Y = np.meshgrid(X,Y)\n",
    "x = 30\n",
    "y = 50\n",
    "mu = np.array([x,y])\n",
    "Sigma = np.array([[5,0],[0,5]])\n",
    "pos = np.empty(X.shape+(2,))\n",
    "pos[:,:,0]= X\n",
    "pos[:,:,1] = Y\n",
    "\n",
    "p2 = Distribution(mu,Sigma)\n",
    "Z = p2.two_d_gaussian(pos)\n",
    "\n",
    "print(Z.shape)\n",
    "plt.imshow(Z)\n",
    "plt.show()"
   ]
  },
  {
   "cell_type": "code",
   "execution_count": 100,
   "metadata": {},
   "outputs": [
    {
     "name": "stdout",
     "output_type": "stream",
     "text": [
      "torch.Size([2, 3, 3, 3])\n",
      "torch.Size([2, 3, 3, 3])\n",
      "tensor([[[1., 2.],\n",
      "         [1., 2.],\n",
      "         [1., 2.]],\n",
      "\n",
      "        [[1., 2.],\n",
      "         [1., 2.],\n",
      "         [1., 2.]]])\n"
     ]
    }
   ],
   "source": [
    "import torch\n",
    "import torch.nn.functional as F\n",
    "H = 3\n",
    "W = 3\n",
    "C = 3\n",
    "J = 2\n",
    "x = torch.ones(C,H,W)\n",
    "x = torch.stack([x,x],0)\n",
    "att = torch.Tensor(\n",
    "    [[[1,1,1],\n",
    "     [1,1,1],\n",
    "     [1,1,1]],\n",
    "     [[2,2,2],\n",
    "      [2,2,2],\n",
    "      [2,2,2]]])\n",
    "# att = att.view(J,-1)\n",
    "# att = F.softmax(att,1)\n",
    "# att = att.view(J,H,W)\n",
    "# print(att)\n",
    "att = torch.stack([att,att],0)\n",
    "f_list = []\n",
    "for i in range(att.size(1)):\n",
    "    f = x*(att[:,i,:,:]).unsqueeze(1)\n",
    "    print(f.size())\n",
    "    f = F.adaptive_avg_pool2d(f,[1,1]).squeeze()\n",
    "    f_list.append(f)\n",
    "F = torch.stack(f_list,2)\n",
    "# C,H,W = x.size()\n",
    "# x = x.view(C,-1)\n",
    "# att = att.permute(1,2,0).contiguous().view(-1,J)\n",
    "# f = torch.matmul(x,att)\n",
    "# f = f/(H*W)\n",
    "print(F)"
   ]
  },
  {
   "cell_type": "code",
   "execution_count": 2,
   "metadata": {},
   "outputs": [
    {
     "data": {
      "text/plain": [
       "array([[2. , 1.5],\n",
       "       [1. , 1. ]])"
      ]
     },
     "execution_count": 2,
     "metadata": {},
     "output_type": "execute_result"
    }
   ],
   "source": [
    "a = np.array([[2,3],[1,2]])\n",
    "b = np.array([1,2])\n",
    "a/b"
   ]
  }
 ],
 "metadata": {
  "kernelspec": {
   "display_name": "Python 3",
   "language": "python",
   "name": "python3"
  },
  "language_info": {
   "codemirror_mode": {
    "name": "ipython",
    "version": 3
   },
   "file_extension": ".py",
   "mimetype": "text/x-python",
   "name": "python",
   "nbconvert_exporter": "python",
   "pygments_lexer": "ipython3",
   "version": "3.7.4"
  }
 },
 "nbformat": 4,
 "nbformat_minor": 2
}
