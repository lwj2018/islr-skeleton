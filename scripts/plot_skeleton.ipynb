{
 "cells": [
  {
   "cell_type": "code",
   "execution_count": 62,
   "metadata": {},
   "outputs": [
    {
     "name": "stdout",
     "output_type": "stream",
     "text": [
      "[[592 575]\n",
      " [659 576]]\n",
      "[[592 575]\n",
      " [659 576]]\n"
     ]
    },
    {
     "data": {
      "image/png": "[encoded data removed]",
      "text/plain": [
       "<Figure size 432x288 with 1 Axes>"
      ]
     },
     "metadata": {
      "needs_background": "light"
     },
     "output_type": "display_data"
    }
   ],
   "source": [
    "import matplotlib.pyplot as plt\n",
    "import numpy as np\n",
    "import os\n",
    "import os.path as osp\n",
    "from PIL import Image\n",
    "\n",
    "path = \"000031/P35_02_11_0\"\n",
    "f = open(\"/home/liweijie/SLR_dataset/xf500_body_color_txt/\"+path+\"_body.txt\",\"r\")\n",
    "video_path = \"/home/liweijie/SLR_dataset/S500_color_video/\"+path+\"_color\"\n",
    "image_list = os.listdir(video_path)\n",
    "image_list.sort()\n",
    "image_list = [osp.join(video_path,x) for x in image_list]\n",
    "content = f.readlines()\n",
    "\n",
    "def view_invariant_transform(mat):\n",
    "    '''\n",
    "      @params mat: T J D\n",
    "    '''\n",
    "    index1 = 12\n",
    "    index2 = 16\n",
    "    new_mat = np.zeros(mat.shape)\n",
    "    for i in range(mat.shape[0]):\n",
    "        delta_x,delta_y = mat[i,index2,:]-mat[i,index1,:]\n",
    "        center_x,center_y = 0.5*(mat[i,index2,:]+mat[i,index1,:])\n",
    "        length = (delta_x*delta_x+delta_y*delta_y)**0.5\n",
    "        cos_theta = delta_x/length\n",
    "        sin_theta = delta_y/length\n",
    "        T = np.array([\n",
    "            [cos_theta,-sin_theta],\n",
    "            [-sin_theta,-cos_theta]\n",
    "        ])\n",
    "        t = np.array([center_x,center_y])\n",
    "        # 对一帧中所有坐标进行具有视角不变性的变换\n",
    "        # x'=Tx\n",
    "        # origin_coord: J D\n",
    "        origin_coord = mat[i,:,:]-t\n",
    "        new_coord = np.matmul(T,origin_coord.transpose())\n",
    "        new_coord = new_coord.transpose()\n",
    "        new_mat[i,:,:] = new_coord\n",
    "    return new_mat\n",
    "\n",
    "def content_to_mat(content):\n",
    "    mat = []\n",
    "    for record in content:\n",
    "        skeleton = record.rstrip(\"\\n\").rstrip(\"  \").split()\n",
    "        skeleton = [int(x) for x in skeleton]\n",
    "        skeleton = np.array(skeleton)\n",
    "        shape = skeleton.size\n",
    "        skeleton = np.reshape(skeleton,[shape//2,2])\n",
    "        mat.append(skeleton)\n",
    "    mat = np.array(mat)\n",
    "    return mat        \n",
    "\n",
    "mat = content_to_mat(content)\n",
    "\n",
    "links = \\\n",
    "[\n",
    "    [2,3],\n",
    "    [3,20],\n",
    "    [20,4],\n",
    "    [20,8],\n",
    "    [20,1],\n",
    "    [4,5],\n",
    "    [5,6],\n",
    "    [6,22],\n",
    "    [6,7],\n",
    "    [6,21],\n",
    "    [8,9],\n",
    "    [9,10],\n",
    "    [10,24],\n",
    "    [10,11],\n",
    "    [11,23],\n",
    "    [20,1],\n",
    "    [1,0],\n",
    "    [0,12],\n",
    "    [0,16],\n",
    "    [12,13],\n",
    "    [13,14],\n",
    "    [14,15],\n",
    "    [16,17],\n",
    "    [17,18],\n",
    "    [18,19]\n",
    "]\n",
    "\n",
    "def plot_skeleton(skeleton,i):\n",
    "    x = skeleton[:,0]\n",
    "    y = skeleton[:,1]\n",
    "#     plt.subplot(2,2,i)\n",
    "#     ax = plt.gca()\n",
    "#     ax.yaxis.set_ticks_position('right')  #将y轴的位置设置在右边\n",
    "#     ax.invert_yaxis()  #y轴反向\n",
    "    plot_links(skeleton,links)\n",
    "    plt.scatter(x,y,s=10)\n",
    "    \n",
    "    \n",
    "def plot_image(image_name,i):\n",
    "    plt.subplot(4,4,i)\n",
    "    image = Image.open(image_name)\n",
    "    plt.imshow(image)\n",
    "\n",
    "\n",
    "# plot_skeleton(mat[16],0)\n",
    "#for count,i in enumerate(range(16,20,1)):\n",
    "#     skeleton = mat[i]\n",
    "#     image_name = image_list[i]\n",
    "# #     plot_image(image_name,count+1)\n",
    "#     plot_skeleton(skeleton,count+1)\n",
    "# plt.show()\n",
    "\n",
    "print(mat[19,[12,16]])\n",
    "\n",
    "# mat = view_invariant_transform(mat)\n",
    "plot_skeleton(mat[19],0)\n",
    "# # mat = random_jitter(mat)\n",
    "# for count,i in enumerate(range(19,23,1)):\n",
    "#     skeleton = mat[i]\n",
    "#     plot_skeleton(skeleton,count+1)\n",
    "# plt.show()\n",
    "\n",
    "#fig.savefig('skeleton.pdf', bbox_inches='tight')\n",
    "\n",
    "# print(mat.shape)\n",
    "print(mat[19,[12,16]])"
   ]
  },
  {
   "cell_type": "code",
   "execution_count": 51,
   "metadata": {},
   "outputs": [],
   "source": [
    "def plot_links(skeleton,links):\n",
    "        skeleton = np.transpose(skeleton)\n",
    "        for link in links:\n",
    "            i,j = link\n",
    "#             x1 = skeleton[i,0]\n",
    "#             y1 = skeleton[i,1]\n",
    "#             x2 = skeleton[j,0]\n",
    "#             y2 = skeleton[j,1]\n",
    "            plt.plot(skeleton[0,[i,j]],skeleton[1,[i,j]],color='r')"
   ]
  },
  {
   "cell_type": "code",
   "execution_count": 9,
   "metadata": {},
   "outputs": [],
   "source": [
    "def random_jitter(mat):\n",
    "    # input: T J D\n",
    "    jitter_amp = 10\n",
    "    delta  = np.random.randint(0,jitter_amp,mat.shape)\n",
    "    mat = mat+delta\n",
    "    return mat\n",
    "\n",
    "def random_shift(mat):\n",
    "    shift_amp = 20\n",
    "    xshift = np.random.randint(-shift_amp,shift_amp)\n",
    "    yshift = np.random.randint(-shift_amp,shift_amp)\n",
    "    mat[:,:,0] = mat[:,:,0]+xshift\n",
    "    mat[:,:,1] = mat[:,:,1]+yshift\n",
    "    return mat\n",
    "\n",
    "def random_augmentation(mat):\n",
    "    choice = np.random.randint(0,2,4)\n",
    "    if choice[0]==1:\n",
    "        mat = random_jitter(mat)\n",
    "    elif choice[1]==1:\n",
    "        mat = random_shift(mat)\n",
    "    return mat\n",
    "\n"
   ]
  },
  {
   "cell_type": "code",
   "execution_count": 3,
   "metadata": {},
   "outputs": [],
   "source": [
    "plt.show()"
   ]
  },
  {
   "cell_type": "code",
   "execution_count": 4,
   "metadata": {},
   "outputs": [],
   "source": [
    "import os\n",
    "import os.path as osp\n",
    "import cv2\n",
    "path = \"/media/liweijie/代码和数据/datasets/SLR_dataset/S500_depth_video/000000/P01_01_00_0_depth\"\n",
    "imagename_list = os.listdir(path)\n",
    "imagename_list.sort()\n",
    "imagelist = []\n",
    "for imagename in imagename_list:\n",
    "    abs_imagename = osp.join(path,imagename)\n",
    "    image = cv2.imread(abs_imagename)\n",
    "    imagelist.append(image)\n"
   ]
  },
  {
   "cell_type": "code",
   "execution_count": 6,
   "metadata": {},
   "outputs": [
    {
     "data": {
      "text/plain": [
       "(228, 0, 67.95397718897405)"
      ]
     },
     "execution_count": 6,
     "metadata": {},
     "output_type": "execute_result"
    }
   ],
   "source": [
    "image.max(),image.min(),image.mean()"
   ]
  },
  {
   "cell_type": "code",
   "execution_count": 69,
   "metadata": {},
   "outputs": [
    {
     "data": {
      "text/plain": [
       "tensor([[0., 0., 0.],\n",
       "        [0., 0., 0.],\n",
       "        [0., 0., 0.]])"
      ]
     },
     "execution_count": 69,
     "metadata": {},
     "output_type": "execute_result"
    }
   ],
   "source": [
    "import torch\n",
    "torch.zeros(3,3)"
   ]
  }
 ],
 "metadata": {
  "kernelspec": {
   "display_name": "Python 3",
   "language": "python",
   "name": "python3"
  },
  "language_info": {
   "codemirror_mode": {
    "name": "ipython",
    "version": 3
   },
   "file_extension": ".py",
   "mimetype": "text/x-python",
   "name": "python",
   "nbconvert_exporter": "python",
   "pygments_lexer": "ipython3",
   "version": "3.7.4"
  }
 },
 "nbformat": 4,
 "nbformat_minor": 2
}
