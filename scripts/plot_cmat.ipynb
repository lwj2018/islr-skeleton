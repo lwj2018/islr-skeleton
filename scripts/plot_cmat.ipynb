{
 "cells": [
  {
   "cell_type": "markdown",
   "metadata": {},
   "source": [
    "# 读取cmat"
   ]
  },
  {
   "cell_type": "code",
   "execution_count": 5,
   "metadata": {},
   "outputs": [],
   "source": [
    "import matplotlib.pyplot as plt\n",
    "import numpy as np\n",
    "\n",
    "name = \"cmat_part_iSLR_single_skeleton_class500\"\n",
    "# name = \"cmat\"\n",
    "file = open(\"/home/liweijie/projects/skeleton/output/\"+name+\".txt\",\"r\")\n",
    "records = file.readlines()\n",
    "num_class = 500\n",
    "cmat = np.zeros([num_class,num_class])\n",
    "\n",
    "for i,record in enumerate(records):\n",
    "    row = record.split()\n",
    "    for j,item in enumerate(row):\n",
    "        cmat[i,j] = item\n",
    "\n",
    "# for i in range(cmat.shape[0]):\n",
    "#     for j in range(cmat.shape[1]):\n",
    "#         if i!=j and cmat[i,j]>=5:\n",
    "#             print(i,j)"
   ]
  },
  {
   "cell_type": "markdown",
   "metadata": {},
   "source": [
    "# cmat转化为概率格式，绘图"
   ]
  },
  {
   "cell_type": "code",
   "execution_count": 6,
   "metadata": {},
   "outputs": [
    {
     "data": {
      "text/plain": [
       "<matplotlib.image.AxesImage at 0x7efba7569dd0>"
      ]
     },
     "execution_count": 6,
     "metadata": {},
     "output_type": "execute_result"
    },
    {
     "data": {
      "image/png": "[encoded data removed]",
      "text/plain": [
       "<Figure size 432x288 with 1 Axes>"
      ]
     },
     "metadata": {
      "needs_background": "light"
     },
     "output_type": "display_data"
    }
   ],
   "source": [
    "n = 500\n",
    "cmat = cmat[:n,:n]\n",
    "cmat = np.transpose(cmat)\n",
    "cmat = cmat/cmat.sum(1)\n",
    "plt.imshow(cmat)"
   ]
  },
  {
   "cell_type": "markdown",
   "metadata": {},
   "source": [
    "# 保存为excel表格"
   ]
  },
  {
   "cell_type": "code",
   "execution_count": 7,
   "metadata": {},
   "outputs": [],
   "source": [
    "sn = 20\n",
    "cmat = cmat[:sn,:sn]\n",
    "import pandas as pd\n",
    "df = pd.DataFrame(cmat)\n",
    "writer = pd.ExcelWriter(name+\".xlsx\")\n",
    "df.to_excel(writer,\"sheet1\")\n",
    "\n",
    "writer.save()"
   ]
  },
  {
   "cell_type": "code",
   "execution_count": 30,
   "metadata": {},
   "outputs": [
    {
     "data": {
      "text/plain": [
       "1.1446584669898843"
      ]
     },
     "execution_count": 30,
     "metadata": {},
     "output_type": "execute_result"
    }
   ],
   "source": [
    "import random\n",
    "random.random()*(max-min)+min"
   ]
  }
 ],
 "metadata": {
  "kernelspec": {
   "display_name": "Python 3",
   "language": "python",
   "name": "python3"
  },
  "language_info": {
   "codemirror_mode": {
    "name": "ipython",
    "version": 3
   },
   "file_extension": ".py",
   "mimetype": "text/x-python",
   "name": "python",
   "nbconvert_exporter": "python",
   "pygments_lexer": "ipython3",
   "version": "3.7.4"
  }
 },
 "nbformat": 4,
 "nbformat_minor": 2
}
