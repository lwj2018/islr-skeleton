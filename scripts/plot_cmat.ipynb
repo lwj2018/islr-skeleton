{
 "cells": [
  {
   "cell_type": "markdown",
   "metadata": {},
   "source": [
    "# 读取cmat"
   ]
  },
  {
   "cell_type": "code",
   "execution_count": 28,
   "metadata": {},
   "outputs": [
    {
     "name": "stdout",
     "output_type": "stream",
     "text": [
      "16 15\n",
      "23 212\n",
      "57 58\n",
      "61 108\n",
      "64 88\n",
      "124 123\n",
      "129 128\n",
      "148 167\n",
      "178 138\n",
      "187 189\n",
      "194 269\n",
      "194 270\n",
      "197 192\n",
      "201 204\n",
      "212 213\n",
      "223 372\n",
      "231 232\n",
      "233 234\n",
      "235 236\n",
      "239 203\n",
      "258 241\n",
      "278 276\n",
      "325 420\n",
      "431 432\n",
      "432 431\n",
      "484 427\n"
     ]
    }
   ],
   "source": [
    "import matplotlib.pyplot as plt\n",
    "import numpy as np\n",
    "\n",
    "file = open(\"/home/liweijie/projects/skeleton/output/cmat.txt\",\"r\")\n",
    "records = file.readlines()\n",
    "num_class = 500\n",
    "cmat = np.zeros([num_class,num_class])\n",
    "\n",
    "for i,record in enumerate(records):\n",
    "    row = record.split()[:-1]\n",
    "    for j,item in enumerate(row):\n",
    "        cmat[i,j] = item\n",
    "\n",
    "\n",
    "for i in range(cmat.shape[0]):\n",
    "    for j in range(cmat.shape[1]):\n",
    "        if i!=j and cmat[i,j]>=5:\n",
    "            print(i,j)"
   ]
  },
  {
   "cell_type": "markdown",
   "metadata": {},
   "source": [
    "# cmat转化为概率格式，绘图"
   ]
  },
  {
   "cell_type": "code",
   "execution_count": 31,
   "metadata": {},
   "outputs": [
    {
     "data": {
      "text/plain": [
       "<matplotlib.image.AxesImage at 0x7efb9f262c90>"
      ]
     },
     "execution_count": 31,
     "metadata": {},
     "output_type": "execute_result"
    },
    {
     "data": {
      "image/png": "[encoded data removed]",
      "text/plain": [
       "<Figure size 432x288 with 1 Axes>"
      ]
     },
     "metadata": {
      "needs_background": "light"
     },
     "output_type": "display_data"
    }
   ],
   "source": [
    "n = 50\n",
    "cmat = cmat[:n,:n]\n",
    "cmat = np.transpose(cmat)\n",
    "cmat = cmat/cmat.sum(1)\n",
    "plt.imshow(cmat)"
   ]
  },
  {
   "cell_type": "markdown",
   "metadata": {},
   "source": [
    "# 保存为excel表格"
   ]
  },
  {
   "cell_type": "code",
   "execution_count": 32,
   "metadata": {},
   "outputs": [],
   "source": [
    "import pandas as pd\n",
    "df = pd.DataFrame(cmat)\n",
    "writer = pd.ExcelWriter(\"cmat.xlsx\")\n",
    "df.to_excel(writer,\"sheet1\")\n",
    "\n",
    "writer.save()"
   ]
  }
 ],
 "metadata": {
  "kernelspec": {
   "display_name": "Python 3",
   "language": "python",
   "name": "python3"
  },
  "language_info": {
   "codemirror_mode": {
    "name": "ipython",
    "version": 3
   },
   "file_extension": ".py",
   "mimetype": "text/x-python",
   "name": "python",
   "nbconvert_exporter": "python",
   "pygments_lexer": "ipython3",
   "version": "3.7.4"
  }
 },
 "nbformat": 4,
 "nbformat_minor": 2
}
