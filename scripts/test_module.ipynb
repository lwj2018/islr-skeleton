{
 "cells": [
  {
   "cell_type": "code",
   "execution_count": 7,
   "metadata": {},
   "outputs": [
    {
     "name": "stdout",
     "output_type": "stream",
     "text": [
      "[ 2  5  7 10 14 17 19 22 26 28 31 34 37 40 44 46 50 52 55 59 61 64 67 70\n",
      " 73 76 79 82 85 89 92 96]\n"
     ]
    },
    {
     "data": {
      "text/plain": [
       "(array([ 2,  5,  7, 10, 14, 17, 19, 22, 26, 28, 31, 34, 37, 40, 44, 46, 50,\n",
       "        52, 55, 59, 61, 64, 67, 70, 73, 76, 79, 82, 85, 89, 92, 95]),\n",
       " array([ 2,  5,  7, 10, 14, 17, 19, 22, 26, 28, 31, 34, 37, 40, 44, 46, 50,\n",
       "        52, 55, 59, 61, 64, 67, 70, 73, 76, 79, 82, 85, 89, 92, 95]))"
      ]
     },
     "execution_count": 7,
     "metadata": {},
     "output_type": "execute_result"
    }
   ],
   "source": [
    "import numpy as np\n",
    "length = 32\n",
    "def get_sample_indices(num_frames):\n",
    "    indices = np.linspace(1,num_frames-1,length).astype(int)\n",
    "    interval = (num_frames-1)//length\n",
    "    jitter = np.random.randint(0,interval,length)\n",
    "    jitter = (np.random.rand(length)*interval).astype(int)\n",
    "    indices = np.sort(indices+jitter)\n",
    "    print(indices)\n",
    "    indices = np.clip(indices,0,num_frames-1)\n",
    "    skeleton_indices = indices\n",
    "    image_indices = indices\n",
    "    return skeleton_indices,image_indices\n",
    "    \n",
    "a,b =  get_sample_indices(96)\n",
    "a,b"
   ]
  }
 ],
 "metadata": {
  "kernelspec": {
   "display_name": "Python 3",
   "language": "python",
   "name": "python3"
  },
  "language_info": {
   "codemirror_mode": {
    "name": "ipython",
    "version": 3
   },
   "file_extension": ".py",
   "mimetype": "text/x-python",
   "name": "python",
   "nbconvert_exporter": "python",
   "pygments_lexer": "ipython3",
   "version": "3.7.4"
  }
 },
 "nbformat": 4,
 "nbformat_minor": 2
}
